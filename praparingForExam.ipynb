{
  "nbformat": 4,
  "nbformat_minor": 0,
  "metadata": {
    "colab": {
      "provenance": []
    },
    "kernelspec": {
      "name": "python3",
      "display_name": "Python 3"
    },
    "language_info": {
      "name": "python"
    }
  },
  "cells": [
    {
      "cell_type": "code",
      "execution_count": null,
      "metadata": {
        "id": "PeWgrRQn0dZ_"
      },
      "outputs": [],
      "source": []
    },
    {
      "cell_type": "markdown",
      "source": [
        "if df.isnull().sum().sum() == 0:\n",
        "  print(\"Пропущенных данных нет\")\n",
        "else:\n",
        "  for name in df:\n",
        "    if df[name].dtype == np.int64:\n",
        "      df[name] = df[name].fillna(df[name].median())\n",
        "    elif df[name].dtype == np.float64:\n",
        "      df[name] = df[name].fillna(df[name].mean())\n",
        "    else:\n",
        "      df[name] = df[name].fillna(df[name].mode()[0])\n",
        "df.info()"
      ],
      "metadata": {
        "id": "ZGqvdUd30iXV"
      }
    },
    {
      "cell_type": "markdown",
      "source": [
        "df.loc[df['RainToday'] == 'No', 'RainToday'] = 0\n",
        "df.loc[df['RainToday'] == 'Yes', 'RainToday'] = 1\n",
        "df.loc[df['RainTomorrow'] == 'No', 'RainTomorrow'] = 0\n",
        "df.loc[df['RainTomorrow'] == 'Yes', 'RainTomorrow'] = 1\n",
        "df = pd.get_dummies(df, columns=[\"Location\", 'WindGustDir'], prefix=[\"Location\", 'WindGustDir'])\n",
        "df.drop(['WindDir9am', 'WindDir3pm', 'Location', 'WindGustDir', 'Pressure3pm'], axis=1, inplace=True)\n",
        "df"
      ],
      "metadata": {
        "id": "qmAzvgRY0w2f"
      }
    },
    {
      "cell_type": "markdown",
      "source": [
        "data = df.drop([\"RainTomorrow\"], axis=1)\n",
        "names = data.columns\n",
        "scaler = MinMaxScaler()\n",
        "data = scaler.fit_transform(data)\n",
        "data = pd.DataFrame(data, columns=names)\n",
        "data['RainTomorrow'] = df['RainTomorrow']"
      ],
      "metadata": {
        "id": "6vB5BoZL08p1"
      }
    },
    {
      "cell_type": "markdown",
      "source": [
        "from imblearn.over_sampling import SMOTE\n",
        "\n",
        "data['RainTomorrow'].value_counts()\n",
        "X = data.drop(['RainTomorrow'], axis=1)\n",
        "y = data['RainTomorrow']\n",
        "smote = SMOTE()\n",
        "X_sm, y_sm = smote.fit_resample(X, y.astype(int))\n",
        "X_sm['RainTomorrow'] = y_sm\n",
        "df_new = X_sm"
      ],
      "metadata": {
        "id": "IFkGb6EY1Ddv"
      }
    },
    {
      "cell_type": "markdown",
      "source": [
        "model_regression = tf.keras.Sequential(\n",
        "    [\n",
        "        # Dense - полносвязный слой (каждый нейрон следующего слоя связан со всеми нейронами предыдущего)\n",
        "        tf.keras.layers.Dense(64, activation=\"relu\", input_shape=(X_rgr_train.shape[1],)),\n",
        "        tf.keras.layers.Dense(128, activation=\"linear\"),\n",
        "        tf.keras.layers.Dense(64, activation=\"relu\"),\n",
        "        tf.keras.layers.Dense(32, activation=\"linear\"),\n",
        "        tf.keras.layers.Dense(16, activation=\"relu\"),\n",
        "        tf.keras.layers.Dense(1, activation=\"linear\"),\n",
        "    ]\n",
        ")\n",
        "model_regression.summary()\n",
        "model_classification_1.compile(optimizer=tf.keras.optimizers.Adam(learning_rate=0.001), loss=\"mse\")\n",
        "verbose=None - не будет логов\n",
        "model_classification_1.fit(X_clf_train, y_clf_train, epochs=25)"
      ],
      "metadata": {
        "id": "kuRPzsRr1dhK"
      }
    },
    {
      "cell_type": "markdown",
      "source": [
        "https://github.com/IamVOC/MLBasics/tree/main"
      ],
      "metadata": {
        "id": "YuZUO4IEhvU8"
      }
    },
    {
      "cell_type": "markdown",
      "source": [
        "https://skine.ru/articles/82478/"
      ],
      "metadata": {
        "id": "2NZSP2sKh4Zx"
      }
    }
  ]
}